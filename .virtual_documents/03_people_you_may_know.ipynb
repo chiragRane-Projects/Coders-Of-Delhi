import json

def load_data(filename):
    with open("data.json", "r") as f:
        return json.load(f)

def find_ppl_you_may_know(user_id, data):
    user_friends = {}
    for user in data['users']:
        user_friends[user['id']] = set(use['friends'])
    if user_id not in user_friends:
        return []
        
    direct_friends = user_friends[user_id]
    suggestions = {}
    for friend in direct_friends:
        for mututal in user_friends(friend):
            if mututal != user_id and mututal not in direct_friends:
                #Count mutual friends
                suggestions[mututal] = suggestions.get(mututal, 0) + 1
    sorted_suggestions = sorted(suggestions.items(), key=lambda x: x[1], reverse=True)
    return [user_id for user_id, mututal_count in sorted_suggestions]

#Load data
data = load_data("data.json")
user_id = 1
recc = find_ppl_you_may_know(user_id, data)
print(recc)



